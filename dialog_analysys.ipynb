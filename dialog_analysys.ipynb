{
 "cells": [
  {
   "cell_type": "code",
   "execution_count": null,
   "id": "initial_id",
   "metadata": {
    "collapsed": true,
    "jupyter": {
     "outputs_hidden": true
    }
   },
   "outputs": [],
   "source": [
    "import vk_api\n",
    "import pandas as pd\n",
    "from datetime import datetime\n",
    "from matplotlib import pyplot as plt\n",
    "from statsmodels.tsa.seasonal import seasonal_decompose\n",
    "import matplotlib.dates as mdates\n",
    "from wordcloud import WordCloud\n",
    "from nltk.corpus import stopwords\n",
    "import nltk\n",
    "from transformers import pipeline\n",
    "import string\n",
    "from nltk import word_tokenize, SnowballStemmer"
   ]
  },
  {
   "cell_type": "code",
   "execution_count": null,
   "id": "bc53099807f8b931",
   "metadata": {
    "collapsed": false
   },
   "outputs": [],
   "source": [
    "!pip install torch torchvision torchaudio"
   ]
  },
  {
   "cell_type": "markdown",
   "id": "6054278e7903d319",
   "metadata": {
    "collapsed": false
   },
   "source": [
    "## Загрузка данных"
   ]
  },
  {
   "cell_type": "markdown",
   "id": "918820c274e11b4d",
   "metadata": {
    "collapsed": false
   },
   "source": [
    "Получим доступ к аккаунту через access_token(его получить можно например здесь https://vkhost.github.io/)"
   ]
  },
  {
   "cell_type": "code",
   "execution_count": null,
   "id": "26e8053e0184d30e",
   "metadata": {
    "collapsed": false
   },
   "outputs": [],
   "source": [
    "access_token = 'YOUR_TOKEN_HERE'\n",
    "vk_session = vk_api.VkApi(token=access_token)\n",
    "vk = vk_session.get_api()"
   ]
  },
  {
   "cell_type": "markdown",
   "id": "7309d5e13d813fc2",
   "metadata": {
    "collapsed": false
   },
   "source": [
    "Сюда вставляем id друга"
   ]
  },
  {
   "cell_type": "code",
   "execution_count": null,
   "id": "563bec461e1bc707",
   "metadata": {
    "collapsed": false
   },
   "outputs": [],
   "source": [
    "friend_id = 999999999"
   ]
  },
  {
   "cell_type": "markdown",
   "id": "fb70e6bb9db424d5",
   "metadata": {
    "collapsed": false
   },
   "source": [
    "За один запрос мы можем получить не больше 200 сообщений из диалога, так что воспользуемся циклом для запроса всей переписки"
   ]
  },
  {
   "cell_type": "code",
   "execution_count": null,
   "id": "c5d72816c820ec4",
   "metadata": {
    "collapsed": false
   },
   "outputs": [],
   "source": [
    "try:\n",
    "    messages = vk.messages.getHistory(user_id=friend_id, count=200)  \n",
    "    all_messages = messages['items']\n",
    "    while messages['count'] > len(all_messages):\n",
    "        messages = vk.messages.getHistory(user_id=friend_id, count=200, offset=len(all_messages))\n",
    "        all_messages.extend(messages['items'])\n",
    "        print(messages['count'], len(all_messages))\n",
    "except vk_api.VkApiError as error_msg:\n",
    "    print(error_msg)"
   ]
  },
  {
   "cell_type": "markdown",
   "id": "95f9e51a50106a1c",
   "metadata": {
    "collapsed": false
   },
   "source": [
    "Так как по каждому сообщению есть дополнительная информация, то засунем их в датафрейм"
   ]
  },
  {
   "cell_type": "code",
   "execution_count": null,
   "id": "48c2c37cd44e2d15",
   "metadata": {
    "collapsed": false
   },
   "outputs": [],
   "source": [
    "data = pd.DataFrame(all_messages)\n",
    "data.head(5)"
   ]
  },
  {
   "cell_type": "markdown",
   "id": "b0b2f8338ea9de5a",
   "metadata": {
    "collapsed": false
   },
   "source": [
    "Преобразуем дату в удобный вид"
   ]
  },
  {
   "cell_type": "code",
   "execution_count": null,
   "id": "58265e5637af78c8",
   "metadata": {
    "collapsed": false
   },
   "outputs": [],
   "source": [
    "data['date'] = (data['date']\n",
    "                       .apply(lambda x: datetime.fromtimestamp(x).strftime('%d.%m.%Y %H:%M:%S')))\n",
    "data['date'] = pd.to_datetime(data['date'], format='%d.%m.%Y %H:%M:%S')\n",
    "data = data.set_index('date')\n",
    "data = data.sort_index(ascending=False)"
   ]
  },
  {
   "cell_type": "markdown",
   "id": "ea2b7de304048fb6",
   "metadata": {
    "collapsed": false
   },
   "source": [
    "Для удобства заменим столбец out на наши имена"
   ]
  },
  {
   "cell_type": "code",
   "execution_count": null,
   "id": "d11d71f020cc156b",
   "metadata": {
    "collapsed": false
   },
   "outputs": [],
   "source": [
    "YOUR_NAME = 'Kent1'\n",
    "FRIEND_NAME = 'Kent2'\n",
    "data['out'] = data['out'].replace({1 : YOUR_NAME, 0 : FRIEND_NAME})"
   ]
  },
  {
   "cell_type": "markdown",
   "id": "98b17e2af062a12a",
   "metadata": {
    "collapsed": false
   },
   "source": [
    "## Анализ количественных характеристик сообщений"
   ]
  },
  {
   "cell_type": "markdown",
   "id": "2d701b3918d44011",
   "metadata": {
    "collapsed": false
   },
   "source": [
    "Получим датафрейм с нужной информацией"
   ]
  },
  {
   "cell_type": "code",
   "execution_count": null,
   "id": "ea1933d356e0d24a",
   "metadata": {
    "collapsed": false
   },
   "outputs": [],
   "source": [
    "messages_df = data[['out', 'text']]"
   ]
  },
  {
   "cell_type": "code",
   "execution_count": null,
   "id": "da1ae2cc1f112bdd",
   "metadata": {
    "collapsed": false
   },
   "outputs": [],
   "source": [
    "print(\"Количество сообщений в чате\", messages_df.shape[0])\n",
    "print(\"Количество сообщений от кажого участника:\")\n",
    "display(messages_df.groupby('out').count());"
   ]
  },
  {
   "cell_type": "code",
   "execution_count": null,
   "id": "581cdf2381cf8359",
   "metadata": {
    "collapsed": false
   },
   "outputs": [],
   "source": [
    "print('Дата первого сообщения', messages_df.index[-1])"
   ]
  },
  {
   "cell_type": "markdown",
   "id": "88a7bf6946627dfb",
   "metadata": {
    "collapsed": false
   },
   "source": [
    "Рассмотрим количество сообщений за каждый час"
   ]
  },
  {
   "cell_type": "code",
   "execution_count": null,
   "id": "8f75e3ffe23724e5",
   "metadata": {
    "collapsed": false
   },
   "outputs": [],
   "source": [
    "messages_amount_df = messages_df.drop(['text', 'out'], axis=1)\n",
    "messages_amount_df['count'] = 1\n",
    "messages_amount_hour_df = messages_amount_df.resample('H').sum()\n",
    "messages_amount_df = messages_amount_df.resample('D').sum()"
   ]
  },
  {
   "cell_type": "code",
   "execution_count": null,
   "id": "25fbfca55d0bd027",
   "metadata": {
    "collapsed": false
   },
   "outputs": [],
   "source": [
    "plt.figure(figsize=(20, 10))\n",
    "\n",
    "plt.plot(messages_amount_df.index, messages_amount_df['count'], label='Значения')\n",
    "rolling_mean = messages_amount_df['count'].rolling(window=7).mean()\n",
    "plt.plot(messages_amount_df.index, rolling_mean, label='недельное скользящее среднее', color='red')\n",
    "\n",
    "plt.title('Количество сообщений по дням')\n",
    "plt.xlabel('Дата')\n",
    "plt.ylabel('Количество сообщений')\n",
    "plt.legend()\n",
    "plt.show()"
   ]
  },
  {
   "cell_type": "code",
   "execution_count": null,
   "id": "c5d1b393b1b8d6a9",
   "metadata": {
    "collapsed": false
   },
   "outputs": [],
   "source": [
    "decomposed = seasonal_decompose(messages_amount_df)\n",
    "\n",
    "\n",
    "plt.figure(figsize=(12, 6))\n",
    "decomposed.trend.plot()\n",
    "plt.title('График тренда')\n",
    "plt.xlabel('Дата')\n",
    "plt.ylabel('Значение')\n",
    "plt.legend(['Тренд'])\n",
    "plt.grid(True)\n",
    "plt.show()\n",
    "\n",
    "plt.figure(figsize=(12, 6))\n",
    "result = seasonal_decompose(messages_amount_hour_df)\n",
    "result.seasonal['2024.03.01':'2024.03.03'].plot()\n",
    "plt.title('График сезонности по дням')\n",
    "plt.xlabel('Дата')\n",
    "plt.ylabel('Значение')\n",
    "plt.legend(['Сезонность'])\n",
    "plt.grid(True)\n",
    "plt.show()\n",
    "\n",
    "\n",
    "plt.figure(figsize=(12, 6))\n",
    "decomposed.seasonal['2024.03.01':'2024.03.17'].plot()\n",
    "plt.title('График сезонности по неделям')\n",
    "plt.xlabel('Дата')\n",
    "plt.ylabel('Значение')\n",
    "plt.legend(['Сезонность'])\n",
    "plt.grid(True)\n",
    "plt.gca().xaxis.set_major_locator(mdates.DayLocator(interval=1))\n",
    "plt.gca().xaxis.set_major_formatter(mdates.DateFormatter('%a'))\n",
    "plt.show()\n",
    "\n",
    "\n",
    "plt.figure(figsize=(12, 6))\n",
    "decomposed.resid.plot()\n",
    "plt.title('График остатков')\n",
    "plt.xlabel('Дата')\n",
    "plt.ylabel('Значение')\n",
    "plt.legend(['Остатки'])\n",
    "plt.grid(True)\n",
    "plt.show()"
   ]
  },
  {
   "cell_type": "markdown",
   "id": "2ec1475d954f96ee",
   "metadata": {
    "collapsed": false
   },
   "source": [
    "Посчитаем количество дней в каждом году, где происходило общение"
   ]
  },
  {
   "cell_type": "code",
   "execution_count": null,
   "id": "4b42f3daba813c91",
   "metadata": {
    "collapsed": false
   },
   "outputs": [],
   "source": [
    "messages_amount_df['year'] = messages_amount_df.index.year\n",
    "messages_amount_year_df = (\n",
    "    messages_amount_df[messages_amount_df['count'] > 0].groupby('year')['count'].count().reset_index())\n",
    "print('Количество дней общения в каждом году:')\n",
    "print(messages_amount_year_df)"
   ]
  },
  {
   "cell_type": "markdown",
   "id": "c41ca0bdccc20808",
   "metadata": {
    "collapsed": false
   },
   "source": [
    "Посчитаем количество слов в каждом сообщении"
   ]
  },
  {
   "cell_type": "code",
   "execution_count": null,
   "id": "71fd288a80131ea8",
   "metadata": {
    "collapsed": false
   },
   "outputs": [],
   "source": [
    "messages_df.loc[:, 'word_count'] = messages_df['text'].apply(lambda x: len(x.split()))"
   ]
  },
  {
   "cell_type": "code",
   "execution_count": null,
   "id": "9f441e62616b06cf",
   "metadata": {
    "collapsed": false
   },
   "outputs": [],
   "source": [
    "print('Среднее количество слов в сообщении по диалогу', round(messages_df['word_count'].mean(), 2))\n",
    "print()\n",
    "print('Среднее количество слов в сообщении по каждому участнику:')\n",
    "display(messages_df.groupby('out')['word_count'].mean())"
   ]
  },
  {
   "cell_type": "markdown",
   "id": "f5186fb554496ff2",
   "metadata": {
    "collapsed": false
   },
   "source": [
    "Посчитаем разницу между текущим сообщением и прошлым"
   ]
  },
  {
   "cell_type": "code",
   "execution_count": null,
   "id": "580a70b5bcbed119",
   "metadata": {
    "collapsed": false
   },
   "outputs": [],
   "source": [
    "messages_df.loc[:, 'time_diff'] = ((messages_df.index.to_series().shift(1) - messages_df.index)\n",
    "                                   .fillna(pd.Timedelta(seconds=0)))"
   ]
  },
  {
   "cell_type": "markdown",
   "id": "fce61b482df6f814",
   "metadata": {
    "collapsed": false
   },
   "source": [
    "Будем считать, что человек начал диалог, если перед его сообщением не было активности в течении N часов"
   ]
  },
  {
   "cell_type": "code",
   "execution_count": null,
   "id": "a8ab7329e1538ec0",
   "metadata": {
    "collapsed": false
   },
   "outputs": [],
   "source": [
    "N = 3\n",
    "messages_df.loc[:, 'start_conversation'] = (messages_df['time_diff'] > pd.Timedelta(hours=N))\n",
    "conversation_starts = messages_df.groupby('out')['start_conversation'].sum()\n",
    "print('Количество начатых диалогов')\n",
    "print(conversation_starts)"
   ]
  },
  {
   "cell_type": "markdown",
   "id": "a936ab4b93c0caac",
   "metadata": {
    "collapsed": false
   },
   "source": [
    "## Анализ содержания сообщений"
   ]
  },
  {
   "cell_type": "markdown",
   "id": "ac12cf6be4b5f2f4",
   "metadata": {
    "collapsed": false
   },
   "source": [
    "Добавим в датафрейм лишь сообщение и его отправителя"
   ]
  },
  {
   "cell_type": "code",
   "execution_count": null,
   "id": "1371e3a3f47cc96e",
   "metadata": {
    "collapsed": false
   },
   "outputs": [],
   "source": [
    "messages_text_df = messages_df[['out', 'text']]"
   ]
  },
  {
   "cell_type": "markdown",
   "id": "90bbcaf7d1f16b55",
   "metadata": {
    "collapsed": false
   },
   "source": [
    "Напишем несколько функций для создания облака слов"
   ]
  },
  {
   "cell_type": "code",
   "execution_count": null,
   "id": "63e5af6ca5542c90",
   "metadata": {
    "collapsed": false
   },
   "outputs": [],
   "source": [
    "# Функция для создания корпуса слов\n",
    "def str_corpus(corpus):\n",
    "    str_corpus = ''\n",
    "    for i in corpus:\n",
    "        str_corpus += ' ' + i\n",
    "    str_corpus = str_corpus.strip()\n",
    "    return str_corpus\n",
    "\n",
    "# Функция для получения всех слов\n",
    "def get_corpus(data):\n",
    "    corpus = []\n",
    "    for phrase in data:\n",
    "        for word in phrase.split():\n",
    "            corpus.append(word)\n",
    "    return corpus\n",
    "\n",
    "# Функция для созданий WordCloud\n",
    "def get_wordcloud(corpus):\n",
    "    wordCloud = WordCloud(\n",
    "        background_color='Black',\n",
    "        width=3000,\n",
    "        height=2500,\n",
    "        max_words=200,\n",
    "        random_state=42\n",
    "    ).generate(str_corpus(corpus)) \n",
    "    return wordCloud"
   ]
  },
  {
   "cell_type": "markdown",
   "id": "852aa1cc381745bb",
   "metadata": {
    "collapsed": false
   },
   "source": [
    "Создадим облако слов"
   ]
  },
  {
   "cell_type": "code",
   "execution_count": null,
   "id": "7305c27a86c93168",
   "metadata": {
    "collapsed": false
   },
   "outputs": [],
   "source": [
    "fig = plt.figure(figsize=(20, 8))\n",
    "corpus = get_corpus(messages_df['text'].values)\n",
    "wordcloud = get_wordcloud(corpus)\n",
    "plt.imshow(wordcloud)\n",
    "plt.axis('off')"
   ]
  },
  {
   "cell_type": "markdown",
   "id": "99c4a601dfb13cdd",
   "metadata": {
    "collapsed": false
   },
   "source": [
    "Тут слишком много всяких лишних слов, так что удалим их."
   ]
  },
  {
   "cell_type": "code",
   "execution_count": null,
   "id": "19eadef4f06c88b",
   "metadata": {
    "collapsed": false
   },
   "outputs": [],
   "source": [
    "nltk.download('stopwords')"
   ]
  },
  {
   "cell_type": "markdown",
   "id": "b44121896b3d259",
   "metadata": {
    "collapsed": false
   },
   "source": [
    "Загрузим уже готовый список стоп-слов"
   ]
  },
  {
   "cell_type": "code",
   "execution_count": null,
   "id": "badb58d46436572b",
   "metadata": {
    "collapsed": false
   },
   "outputs": [],
   "source": [
    "stop_words_set = set(stopwords.words('russian'))"
   ]
  },
  {
   "cell_type": "markdown",
   "id": "ad8dbcb8bf2c3714",
   "metadata": {
    "collapsed": false
   },
   "source": [
    "Добавим более редкие, встречающиеся только в нашем диалоге"
   ]
  },
  {
   "cell_type": "code",
   "execution_count": null,
   "id": "b2aafc03686e9368",
   "metadata": {
    "collapsed": false
   },
   "outputs": [],
   "source": [
    "stop_words_set.update(( 'ахах', 'ахахах', 'хех', 'хах', 'ахахa',  'а', 'ахахаха',\n",
    "                        'вообще','просто', 'вроде', 'очень', 'тип', 'где то', 'мб', 'https', 'это', 'ещё',\n",
    "                        'думаю','всё', 'ага', 'понял', 'пока', 'спасибо', 'точно', 'норм', 'такое', 'че',\n",
    "                        ' ахаха '))"
   ]
  },
  {
   "cell_type": "markdown",
   "id": "bb75b37335732359",
   "metadata": {
    "collapsed": false
   },
   "source": [
    "Перепишем функцию создания облака, для использования фильтра"
   ]
  },
  {
   "cell_type": "code",
   "execution_count": null,
   "id": "7d4810a418efb008",
   "metadata": {
    "collapsed": false
   },
   "outputs": [],
   "source": [
    "def get_wordcloud(corpus, stop_words_set):\n",
    "    wordCloud = WordCloud(\n",
    "        background_color='black',\n",
    "        width=3000,\n",
    "        height=2500,\n",
    "        max_words=200,\n",
    "        stopwords=stop_words_set,\n",
    "        random_state=42\n",
    "    ).generate(str_corpus(corpus)) \n",
    "    return wordCloud"
   ]
  },
  {
   "cell_type": "code",
   "execution_count": null,
   "id": "15fa5bf284911900",
   "metadata": {
    "collapsed": false
   },
   "outputs": [],
   "source": [
    "fig = plt.figure(figsize=(20, 8))\n",
    "corpus = get_corpus(messages_df['text'].values)\n",
    "wordcloud_without_stop = get_wordcloud(corpus,stop_words_set)\n",
    "plt.imshow(wordcloud_without_stop)\n",
    "plt.axis('off')"
   ]
  },
  {
   "cell_type": "code",
   "execution_count": null,
   "id": "7d0451b84dad9dee",
   "metadata": {
    "collapsed": false
   },
   "outputs": [],
   "source": [
    "fig = plt.figure(figsize=(20, 8))\n",
    "\n",
    "corpus_friend = get_corpus(messages_df[messages_df['out'] == FRIEND_NAME]['text'].values)\n",
    "wordcloud_friend = get_wordcloud(corpus_friend, stop_words_set)\n",
    "plt.subplot(1, 2, 1)\n",
    "plt.imshow(wordcloud_friend)\n",
    "plt.title(FRIEND_NAME)\n",
    "plt.axis('off')\n",
    "\n",
    "corpus_me = get_corpus(messages_df[messages_df['out'] == YOUR_NAME]['text'].values)\n",
    "wordcloud_me = get_wordcloud(corpus_me, stop_words_set)\n",
    "plt.subplot(1, 2, 2)\n",
    "plt.imshow(wordcloud_me)\n",
    "plt.title(YOUR_NAME)\n",
    "plt.axis('off')\n",
    "plt.show();"
   ]
  },
  {
   "cell_type": "markdown",
   "source": [
    "Проделаем тоже самое, предварительно проведя стеммизацию"
   ],
   "metadata": {
    "collapsed": false
   },
   "id": "2ff34bea3de3db89"
  },
  {
   "cell_type": "code",
   "execution_count": null,
   "id": "2b1ce35897d2d125",
   "metadata": {
    "collapsed": false
   },
   "outputs": [],
   "source": [
    "def process_text(text):\n",
    "    text = text.translate(str.maketrans('', '', string.punctuation))\n",
    "    tokens = word_tokenize(text.lower())\n",
    "    stop_words_set = set(stopwords.words('russian'))\n",
    "    stop_words_set.update(('ахах', 'ахахах', 'хех', 'хах', 'ахахa', 'а', 'ахахаха',\n",
    "                       'вообще', 'просто', 'вроде', 'очень', 'тип', 'где то', 'мб', 'https', 'это', 'ещё',\n",
    "                       'думаю', 'всё', 'ага', 'понял', 'пока', 'спасибо', 'точно', 'норм', 'такое', 'че',\n",
    "                       ' ахаха '))\n",
    "\n",
    "    stemmer = SnowballStemmer('russian')\n",
    "    text = [stemmer.stem(word) for word in tokens if word not in stop_words_set]\n",
    "    return ' '.join(text)"
   ]
  },
  {
   "cell_type": "code",
   "execution_count": null,
   "id": "10c53b08c32919e",
   "metadata": {
    "collapsed": false
   },
   "outputs": [],
   "source": [
    "messages_df['text_stem'] = messages_df['text'].apply(process_text)"
   ]
  },
  {
   "cell_type": "code",
   "execution_count": null,
   "id": "eda8681f1812bbbd",
   "metadata": {
    "collapsed": false
   },
   "outputs": [],
   "source": [
    "fig = plt.figure(figsize=(20, 8))\n",
    "\n",
    "corpus_friend = get_corpus(messages_df[messages_df['out'] == FRIEND_NAME]['text_stem'].values)\n",
    "wordcloud_friend = get_wordcloud(corpus_friend, stop_words_set)\n",
    "plt.subplot(1, 2, 1)\n",
    "plt.imshow(wordcloud_friend)\n",
    "plt.title(FRIEND_NAME)\n",
    "plt.axis('off')\n",
    "\n",
    "corpus_me = get_corpus(messages_df[messages_df['out'] == YOUR_NAME]['text_stem'].values)\n",
    "wordcloud_me = get_wordcloud(corpus_me, stop_words_set)\n",
    "plt.subplot(1, 2, 2)\n",
    "plt.imshow(wordcloud_me)\n",
    "plt.title(YOUR_NAME)\n",
    "plt.axis('off')\n",
    "plt.show();"
   ]
  },
  {
   "cell_type": "markdown",
   "id": "599e846a7c2d2667",
   "metadata": {
    "collapsed": false
   },
   "source": [
    "Проведём sentiment analysis, чтобы узнать кто тут токсик, загрузим уже обученную модель. Понять, что выкупать локальные мемы она не будет, но общую оценку мы сможем увидеть"
   ]
  },
  {
   "cell_type": "code",
   "execution_count": null,
   "id": "ce554f2ecc9aa1ad",
   "metadata": {
    "collapsed": false
   },
   "outputs": [],
   "source": [
    "classifier = pipeline(\"sentiment-analysis\", model=\"seara/rubert-tiny2-russian-sentiment\")\n",
    "def analyze_sentiment_bert(text):\n",
    "    result = classifier(text)[0]\n",
    "    label = result['label']\n",
    "    score = result['score']\n",
    "    return label, score"
   ]
  },
  {
   "cell_type": "markdown",
   "id": "ff00961ae73dfc7b",
   "metadata": {
    "collapsed": false
   },
   "source": [
    "Обрежем слишком длинные сообщения"
   ]
  },
  {
   "cell_type": "code",
   "execution_count": null,
   "id": "c3d613c053bfaeea",
   "metadata": {
    "collapsed": false
   },
   "outputs": [],
   "source": [
    "MAX_TEXT_LENGTH = 512  \n",
    "def analyze_sentiment_bert_wrapper(text):\n",
    "    text = text[:MAX_TEXT_LENGTH]\n",
    "    return analyze_sentiment_bert(text)"
   ]
  },
  {
   "cell_type": "code",
   "execution_count": null,
   "id": "f3748862bba2109f",
   "metadata": {
    "collapsed": false
   },
   "outputs": [],
   "source": [
    "messages_text_df[['sentiment_label', 'sentiment_score']] = (\n",
    "    messages_text_df['text'].apply(analyze_sentiment_bert_wrapper).apply(pd.Series))"
   ]
  },
  {
   "cell_type": "code",
   "execution_count": null,
   "id": "29fbbe8b6a270198",
   "metadata": {
    "collapsed": false
   },
   "outputs": [],
   "source": [
    "messages_text_df.groupby(['out', 'sentiment_label'])['text'].count()"
   ]
  },
  {
   "cell_type": "markdown",
   "id": "ad85e92098528a06",
   "metadata": {
    "collapsed": false
   },
   "source": [
    "Посмотрим теперь на эти сообщения"
   ]
  },
  {
   "cell_type": "code",
   "execution_count": null,
   "id": "5d234c6752eb30fc",
   "metadata": {
    "collapsed": false
   },
   "outputs": [],
   "source": [
    "(messages_text_df[messages_text_df['sentiment_label'] == 'positive']\n",
    " .sort_values('sentiment_score', ascending=False)).head(10)"
   ]
  },
  {
   "cell_type": "code",
   "execution_count": null,
   "id": "63f15a43cf54385e",
   "metadata": {
    "collapsed": false
   },
   "outputs": [],
   "source": [
    "(messages_text_df[messages_text_df['sentiment_label'] == 'negative']\n",
    " .sort_values('sentiment_score', ascending=False)).head(10)"
   ]
  }
 ],
 "metadata": {
  "kernelspec": {
   "display_name": "Python 3 (ipykernel)",
   "language": "python",
   "name": "python3"
  },
  "language_info": {
   "codemirror_mode": {
    "name": "ipython",
    "version": 3
   },
   "file_extension": ".py",
   "mimetype": "text/x-python",
   "name": "python",
   "nbconvert_exporter": "python",
   "pygments_lexer": "ipython3",
   "version": "3.8.19"
  }
 },
 "nbformat": 4,
 "nbformat_minor": 5
}
